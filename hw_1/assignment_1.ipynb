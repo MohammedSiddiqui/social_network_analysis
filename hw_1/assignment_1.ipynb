{
 "cells": [
  {
   "cell_type": "code",
   "execution_count": 1,
   "metadata": {
    "collapsed": true
   },
   "outputs": [],
   "source": [
    "# Add your imports here\n",
    "\n",
    "import os\n",
    "import networkx as nx"
   ]
  },
  {
   "cell_type": "code",
   "execution_count": 2,
   "metadata": {},
   "outputs": [],
   "source": [
    "project_path = os.getcwd() + '/'\n",
    "\n",
    "DATA_PATH = 'hw_1/data/'\n",
    "browser_data_path = DATA_PATH\n",
    "pycharm_data_path = project_path + DATA_PATH\n",
    "\n",
    "# selected_data_path = browser_data_path\n",
    "selected_data_path = pycharm_data_path\n",
    "\n",
    "fr_dish_choice_data_path = selected_data_path + 'Friends_Dish_Choices.txt'\n",
    "fr_relation_data_path = selected_data_path + 'Friends_Relation.txt'"
   ]
  },
  {
   "cell_type": "code",
   "execution_count": 25,
   "metadata": {},
   "outputs": [
    {
     "name": "stdout",
     "output_type": "stream",
     "text": [
      "set(['Laiba', 'Vali', 'Jahanzaib', 'Anas', 'Sindhi Biryani', 'Ghaffar', 'Seekh Kabab', 'Fish', 'Daal Chawal', 'Paras', 'Karahi', 'Nihari', 'Chicken Handi', 'Chand', 'Faiza', 'Afgani Tikkah', 'Mandi', 'Suji Halwa', 'Mutton Pulao'])\n"
     ]
    }
   ],
   "source": [
    "with open(fr_dish_choice_data_path) as f:\n",
    "    fr_dish_choice_file_content = f.readlines()\n",
    "\n",
    "fr_dish_choice_file_content = [x.strip('\\n').strip('\\r').split('\\t')[1:] for x in fr_dish_choice_file_content]\n",
    "\n",
    "fr_dish_choice_file_content.pop(0)\n",
    "\n",
    "fr_dish_choice_file_content_nodes = set([item for sublist in fr_dish_choice_file_content for item in sublist])\n",
    "\n",
    "print fr_dish_choice_file_content_nodes"
   ]
  },
  {
   "cell_type": "code",
   "execution_count": 28,
   "metadata": {},
   "outputs": [
    {
     "name": "stdout",
     "output_type": "stream",
     "text": [
      "[('Vali', 'Suji Halwa'), ('Vali', 'Nihari'), ('Vali', 'Seekh Kabab'), ('Afgani Tikkah', 'Ghaffar'), ('Afgani Tikkah', 'Chand'), ('Afgani Tikkah', 'Anas'), ('Anas', 'Chicken Handi'), ('Anas', 'Mandi'), ('Sindhi Biryani', 'Ghaffar'), ('Sindhi Biryani', 'Chand'), ('Ghaffar', 'Mutton Pulao'), ('Mandi', 'Jahanzaib'), ('Mandi', 'Laiba'), ('Fish', 'Jahanzaib'), ('Fish', 'Laiba'), ('Daal Chawal', 'Paras'), ('Paras', 'Seekh Kabab'), ('Paras', 'Chicken Handi'), ('Karahi', 'Jahanzaib'), ('Karahi', 'Laiba'), ('Chand', 'Mutton Pulao'), ('Chicken Handi', 'Faiza'), ('Faiza', 'Seekh Kabab'), ('Faiza', 'Suji Halwa')]\n"
     ]
    }
   ],
   "source": [
    "G_fr_dish_choice = nx.Graph()\n",
    "\n",
    "G_fr_dish_choice.add_nodes_from(fr_dish_choice_file_content_nodes)\n",
    "\n",
    "for relationship in fr_dish_choice_file_content:\n",
    "    G_fr_dish_choice.add_edge(relationship[0], relationship[1])\n",
    "\n",
    "print G_fr_dish_choice.edges()"
   ]
  },
  {
   "cell_type": "code",
   "execution_count": 13,
   "metadata": {},
   "outputs": [],
   "source": [
    "\n"
   ]
  }
 ],
 "metadata": {
  "kernelspec": {
   "display_name": "Python 2",
   "language": "python",
   "name": "python2"
  },
  "language_info": {
   "codemirror_mode": {
    "name": "ipython",
    "version": 2
   },
   "file_extension": ".py",
   "mimetype": "text/x-python",
   "name": "python",
   "nbconvert_exporter": "python",
   "pygments_lexer": "ipython2",
   "version": "2.7.6"
  }
 },
 "nbformat": 4,
 "nbformat_minor": 0
}
